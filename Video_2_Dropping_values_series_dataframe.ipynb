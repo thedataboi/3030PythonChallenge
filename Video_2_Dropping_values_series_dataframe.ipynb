{
 "cells": [
  {
   "cell_type": "markdown",
   "metadata": {},
   "source": [
    "# Dropping Unwanted values\n",
    "Sometimes you don't need some of the data you've been given and you'll want to get rid of it to help simplify your work and also reduce the amound of resources you're computer is useing == makes life easier and faster!"
   ]
  },
  {
   "cell_type": "code",
   "execution_count": 1,
   "metadata": {},
   "outputs": [],
   "source": [
    "import pandas as pd # import pandas module"
   ]
  },
  {
   "cell_type": "code",
   "execution_count": 2,
   "metadata": {},
   "outputs": [],
   "source": [
    "#Load in your data\n",
    "play_data = pd.read_json('/media/n/OS/Users/nickd/Google-Drive/Learning/ADS/ADS-ClassProject/data/rawdata/app_details_2_FINAL_April-02-2018.json')"
   ]
  },
  {
   "cell_type": "code",
   "execution_count": 3,
   "metadata": {
    "scrolled": true
   },
   "outputs": [
    {
     "name": "stdout",
     "output_type": "stream",
     "text": [
      "<class 'pandas.core.frame.DataFrame'>\n",
      "RangeIndex: 385288 entries, 0 to 385287\n",
      "Data columns (total 41 columns):\n",
      "age_restriction            385288 non-null int64\n",
      "android_version            385288 non-null object\n",
      "app_name                   385288 non-null object\n",
      "bug_fixes                  385288 non-null object\n",
      "category                   385288 non-null object\n",
      "current_version            385288 non-null object\n",
      "description                385288 non-null object\n",
      "developer_address          385288 non-null object\n",
      "developer_email            385288 non-null object\n",
      "developer_name             385288 non-null object\n",
      "developer_website          385288 non-null object\n",
      "five_stars                 385288 non-null int64\n",
      "five_stars_d               385288 non-null int64\n",
      "four_stars                 385288 non-null int64\n",
      "four_stars_d               385288 non-null int64\n",
      "id                         385288 non-null int64\n",
      "in_app_purchases           385288 non-null object\n",
      "installs                   385288 non-null object\n",
      "installs_high              385288 non-null int64\n",
      "installs_low               385288 non-null int64\n",
      "interactive_elements       385288 non-null object\n",
      "is_editors_choice          385288 non-null int64\n",
      "last_updated               385288 non-null object\n",
      "link                       385288 non-null object\n",
      "logo_url                   385288 non-null object\n",
      "one_star                   385288 non-null int64\n",
      "one_star_d                 385288 non-null int64\n",
      "other_apps_by_developer    385288 non-null object\n",
      "parental_guide             385288 non-null object\n",
      "permissions                385288 non-null object\n",
      "price                      385288 non-null float64\n",
      "price_currency             385288 non-null object\n",
      "rating                     385288 non-null float64\n",
      "rating_count               385288 non-null int64\n",
      "record_time                385288 non-null datetime64[ns]\n",
      "screenshots                385288 non-null object\n",
      "three_stars                385288 non-null int64\n",
      "three_stars_d              385288 non-null int64\n",
      "two_stars                  385288 non-null int64\n",
      "two_stars_d                385288 non-null int64\n",
      "videos                     385288 non-null object\n",
      "dtypes: datetime64[ns](1), float64(2), int64(16), object(22)\n",
      "memory usage: 120.5+ MB\n"
     ]
    }
   ],
   "source": [
    "#Inspect your data to understand what it's made up of\n",
    "play_data.info()"
   ]
  },
  {
   "cell_type": "code",
   "execution_count": 4,
   "metadata": {
    "scrolled": true
   },
   "outputs": [
    {
     "data": {
      "text/plain": [
       "['age_restriction',\n",
       " 'android_version',\n",
       " 'app_name',\n",
       " 'bug_fixes',\n",
       " 'category',\n",
       " 'current_version',\n",
       " 'description',\n",
       " 'developer_address',\n",
       " 'developer_email',\n",
       " 'developer_name',\n",
       " 'developer_website',\n",
       " 'five_stars',\n",
       " 'five_stars_d',\n",
       " 'four_stars',\n",
       " 'four_stars_d',\n",
       " 'id',\n",
       " 'in_app_purchases',\n",
       " 'installs',\n",
       " 'installs_high',\n",
       " 'installs_low',\n",
       " 'interactive_elements',\n",
       " 'is_editors_choice',\n",
       " 'last_updated',\n",
       " 'link',\n",
       " 'logo_url',\n",
       " 'one_star',\n",
       " 'one_star_d',\n",
       " 'other_apps_by_developer',\n",
       " 'parental_guide',\n",
       " 'permissions',\n",
       " 'price',\n",
       " 'price_currency',\n",
       " 'rating',\n",
       " 'rating_count',\n",
       " 'record_time',\n",
       " 'screenshots',\n",
       " 'three_stars',\n",
       " 'three_stars_d',\n",
       " 'two_stars',\n",
       " 'two_stars_d',\n",
       " 'videos']"
      ]
     },
     "execution_count": 4,
     "metadata": {},
     "output_type": "execute_result"
    }
   ],
   "source": [
    "#Create a list of all the columns in the data\n",
    "list(play_data)"
   ]
  },
  {
   "cell_type": "code",
   "execution_count": 5,
   "metadata": {},
   "outputs": [],
   "source": [
    "#Drop the developers address and email\n",
    "play_data.drop(['developer_address','developer_email'], axis=1, inplace=True)"
   ]
  },
  {
   "cell_type": "code",
   "execution_count": 6,
   "metadata": {
    "scrolled": true
   },
   "outputs": [
    {
     "name": "stdout",
     "output_type": "stream",
     "text": [
      "<class 'pandas.core.frame.DataFrame'>\n",
      "RangeIndex: 385288 entries, 0 to 385287\n",
      "Data columns (total 39 columns):\n",
      "age_restriction            385288 non-null int64\n",
      "android_version            385288 non-null object\n",
      "app_name                   385288 non-null object\n",
      "bug_fixes                  385288 non-null object\n",
      "category                   385288 non-null object\n",
      "current_version            385288 non-null object\n",
      "description                385288 non-null object\n",
      "developer_name             385288 non-null object\n",
      "developer_website          385288 non-null object\n",
      "five_stars                 385288 non-null int64\n",
      "five_stars_d               385288 non-null int64\n",
      "four_stars                 385288 non-null int64\n",
      "four_stars_d               385288 non-null int64\n",
      "id                         385288 non-null int64\n",
      "in_app_purchases           385288 non-null object\n",
      "installs                   385288 non-null object\n",
      "installs_high              385288 non-null int64\n",
      "installs_low               385288 non-null int64\n",
      "interactive_elements       385288 non-null object\n",
      "is_editors_choice          385288 non-null int64\n",
      "last_updated               385288 non-null object\n",
      "link                       385288 non-null object\n",
      "logo_url                   385288 non-null object\n",
      "one_star                   385288 non-null int64\n",
      "one_star_d                 385288 non-null int64\n",
      "other_apps_by_developer    385288 non-null object\n",
      "parental_guide             385288 non-null object\n",
      "permissions                385288 non-null object\n",
      "price                      385288 non-null float64\n",
      "price_currency             385288 non-null object\n",
      "rating                     385288 non-null float64\n",
      "rating_count               385288 non-null int64\n",
      "record_time                385288 non-null datetime64[ns]\n",
      "screenshots                385288 non-null object\n",
      "three_stars                385288 non-null int64\n",
      "three_stars_d              385288 non-null int64\n",
      "two_stars                  385288 non-null int64\n",
      "two_stars_d                385288 non-null int64\n",
      "videos                     385288 non-null object\n",
      "dtypes: datetime64[ns](1), float64(2), int64(16), object(20)\n",
      "memory usage: 114.6+ MB\n"
     ]
    }
   ],
   "source": [
    "#Check items have been dropped\n",
    "play_data.info()"
   ]
  },
  {
   "cell_type": "code",
   "execution_count": 7,
   "metadata": {},
   "outputs": [],
   "source": [
    "#Save the amended file\n",
    "play_data.to_json('data/databoi_data_Set.json')"
   ]
  },
  {
   "cell_type": "code",
   "execution_count": null,
   "metadata": {},
   "outputs": [],
   "source": []
  }
 ],
 "metadata": {
  "kernelspec": {
   "display_name": "Python 3",
   "language": "python",
   "name": "python3"
  },
  "language_info": {
   "codemirror_mode": {
    "name": "ipython",
    "version": 3
   },
   "file_extension": ".py",
   "mimetype": "text/x-python",
   "name": "python",
   "nbconvert_exporter": "python",
   "pygments_lexer": "ipython3",
   "version": "3.6.6"
  }
 },
 "nbformat": 4,
 "nbformat_minor": 2
}
